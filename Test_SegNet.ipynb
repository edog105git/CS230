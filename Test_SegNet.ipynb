{
  "nbformat": 4,
  "nbformat_minor": 0,
  "metadata": {
    "colab": {
      "name": "Test_SegNet.ipynb",
      "provenance": [],
      "collapsed_sections": [],
      "include_colab_link": true
    },
    "kernelspec": {
      "name": "python3",
      "display_name": "Python 3"
    },
    "language_info": {
      "name": "python"
    },
    "accelerator": "GPU"
  },
  "cells": [
    {
      "cell_type": "markdown",
      "metadata": {
        "id": "view-in-github",
        "colab_type": "text"
      },
      "source": [
        "<a href=\"https://colab.research.google.com/github/edog105git/CS230/blob/main/Test_SegNet.ipynb\" target=\"_parent\"><img src=\"https://colab.research.google.com/assets/colab-badge.svg\" alt=\"Open In Colab\"/></a>"
      ]
    },
    {
      "cell_type": "code",
      "source": [
        "# this mounts your Google Drive to the Colab VM.\n",
        "from google.colab import drive\n",
        "drive.mount('/content/drive', force_remount=True)"
      ],
      "metadata": {
        "colab": {
          "base_uri": "https://localhost:8080/"
        },
        "id": "8JYZPQ5L1476",
        "outputId": "4ca750af-c654-43b7-dfda-56cc2081137d"
      },
      "execution_count": null,
      "outputs": [
        {
          "output_type": "stream",
          "name": "stdout",
          "text": [
            "Mounted at /content/drive\n"
          ]
        }
      ]
    },
    {
      "cell_type": "code",
      "source": [
        "%matplotlib inline\n",
        "import matplotlib.pyplot as plt\n",
        "import PIL\n",
        "import tensorflow as tf\n",
        "import numpy as np\n",
        "import os\n",
        "import pandas as pd"
      ],
      "metadata": {
        "id": "n3RjNm2116CW"
      },
      "execution_count": null,
      "outputs": []
    },
    {
      "cell_type": "code",
      "source": [
        "! pip install git+https://github.com/tensorflow/examples.git"
      ],
      "metadata": {
        "colab": {
          "base_uri": "https://localhost:8080/"
        },
        "id": "reTicH7kjub3",
        "outputId": "5c9d4bca-2cf2-4d86-9ecd-656fcdfd83d7"
      },
      "execution_count": null,
      "outputs": [
        {
          "output_type": "stream",
          "name": "stdout",
          "text": [
            "Collecting git+https://github.com/tensorflow/examples.git\n",
            "  Cloning https://github.com/tensorflow/examples.git to /tmp/pip-req-build-1d6tred5\n",
            "  Running command git clone -q https://github.com/tensorflow/examples.git /tmp/pip-req-build-1d6tred5\n",
            "Requirement already satisfied: absl-py in /usr/local/lib/python3.7/dist-packages (from tensorflow-examples===ef9fcf969bc2f6a848ad69cfcd5f1dcd9474a1fb-) (1.0.0)\n",
            "Requirement already satisfied: six in /usr/local/lib/python3.7/dist-packages (from tensorflow-examples===ef9fcf969bc2f6a848ad69cfcd5f1dcd9474a1fb-) (1.15.0)\n",
            "Building wheels for collected packages: tensorflow-examples\n",
            "  Building wheel for tensorflow-examples (setup.py) ... \u001b[?25l\u001b[?25hdone\n",
            "  Created wheel for tensorflow-examples: filename=tensorflow_examples-ef9fcf969bc2f6a848ad69cfcd5f1dcd9474a1fb_-py3-none-any.whl size=299204 sha256=c5767c1da1f81d8dd99b6159137c3eb97f9bf861a8851c12c6732afef1ed400b\n",
            "  Stored in directory: /tmp/pip-ephem-wheel-cache-8eplt699/wheels/eb/19/50/2a4363c831fa12b400af86325a6f26ade5d2cdc5b406d552ca\n",
            "\u001b[33m  WARNING: Built wheel for tensorflow-examples is invalid: Metadata 1.2 mandates PEP 440 version, but 'ef9fcf969bc2f6a848ad69cfcd5f1dcd9474a1fb-' is not\u001b[0m\n",
            "Failed to build tensorflow-examples\n",
            "Installing collected packages: tensorflow-examples\n",
            "    Running setup.py install for tensorflow-examples ... \u001b[?25l\u001b[?25hdone\n",
            "\u001b[33m  DEPRECATION: tensorflow-examples was installed using the legacy 'setup.py install' method, because a wheel could not be built for it. A possible replacement is to fix the wheel build issue reported above. You can find discussion regarding this at https://github.com/pypa/pip/issues/8368.\u001b[0m\n",
            "Successfully installed tensorflow-examples-ef9fcf969bc2f6a848ad69cfcd5f1dcd9474a1fb-\n"
          ]
        }
      ]
    },
    {
      "cell_type": "code",
      "source": [
        "from tensorflow_examples.models.pix2pix import pix2pix"
      ],
      "metadata": {
        "id": "kvuUq1QMj7nO"
      },
      "execution_count": null,
      "outputs": []
    },
    {
      "cell_type": "code",
      "source": [
        "# data path for saving the organized training data\n",
        "save_path = '/content/drive/Shared drives/CS230 project/Organized Data/Processed'\n",
        "df = pd.read_csv(os.path.join(save_path, 'OT_train.csv'), header=None)\n",
        "OT_Train = df.to_numpy().reshape(438, 256, 256, 1)\n",
        "df = pd.read_csv(os.path.join(save_path, 'NCCT_train.csv'), header=None)\n",
        "CT_Train = df.to_numpy().reshape(438, 256, 256, 1)"
      ],
      "metadata": {
        "id": "S6tfpjh02I7M"
      },
      "execution_count": null,
      "outputs": []
    },
    {
      "cell_type": "code",
      "source": [
        "import matplotlib.pyplot as plt\n",
        "plt.subplot(1,2,1)\n",
        "plt.imshow(CT_Train[3,:,:,0],cmap='gray', vmin=0, vmax=100)\n",
        "plt.subplot(1,2,2)\n",
        "plt.imshow(OT_Train[3,:,:,0],cmap='gray', vmin=0, vmax=1)"
      ],
      "metadata": {
        "colab": {
          "base_uri": "https://localhost:8080/",
          "height": 221
        },
        "id": "A4OtoVszgUU-",
        "outputId": "71bdc57d-56e7-42c4-b937-32de87513c25"
      },
      "execution_count": null,
      "outputs": [
        {
          "output_type": "execute_result",
          "data": {
            "text/plain": [
              "<matplotlib.image.AxesImage at 0x7f223b36a690>"
            ]
          },
          "metadata": {},
          "execution_count": 9
        },
        {
          "output_type": "display_data",
          "data": {
            "text/plain": [
              "<Figure size 432x288 with 2 Axes>"
            ],
            "image/png": "[encoded data removed]"
          },
          "metadata": {
            "needs_background": "light"
          }
        }
      ]
    },
    {
      "cell_type": "code",
      "source": [
        "# https://www.tensorflow.org/tutorials/images/segmentation\n",
        "# tensor-flow unet\n",
        "\n",
        "base_model = tf.keras.applications.MobileNetV2(input_shape=[256, 256, 3], include_top=False)\n",
        "tf.keras.utils.plot_model(base_model, show_shapes=True)\n",
        "base_model.trainable = True"
      ],
      "metadata": {
        "id": "0F0Hun8-2bLr",
        "colab": {
          "base_uri": "https://localhost:8080/"
        },
        "outputId": "82617d89-8f96-45b8-bf40-b89e6d08de26"
      },
      "execution_count": null,
      "outputs": [
        {
          "output_type": "stream",
          "name": "stdout",
          "text": [
            "WARNING:tensorflow:`input_shape` is undefined or non-square, or `rows` is not in [96, 128, 160, 192, 224]. Weights for input shape (224, 224) will be loaded as the default.\n"
          ]
        }
      ]
    },
    {
      "cell_type": "code",
      "source": [
        "# Use the activations of these layers\n",
        "layer_names = [\n",
        "    'block_1_expand_relu',   # 128x128\n",
        "    'block_3_expand_relu',   # 64x64\n",
        "    'block_6_expand_relu',   # 32x32\n",
        "    'block_13_expand_relu',  # 16x16\n",
        "    'block_16_project',      # 8x8\n",
        "    ]\n",
        "base_model_outputs = [base_model.get_layer(name).output for name in layer_names]\n",
        "\n",
        "# Create the feature extraction model\n",
        "down_stack = tf.keras.Model(inputs=base_model.input, outputs=base_model_outputs)\n",
        "\n",
        "down_stack.trainable = True"
      ],
      "metadata": {
        "id": "dodm1m0pij2S"
      },
      "execution_count": null,
      "outputs": []
    },
    {
      "cell_type": "code",
      "source": [
        "up_stack = [\n",
        "    pix2pix.upsample(512, 3),  # 4x4 -> 8x8\n",
        "    pix2pix.upsample(256, 3),  # 8x8 -> 16x16\n",
        "    pix2pix.upsample(128, 3),  # 16x16 -> 32x32\n",
        "    pix2pix.upsample(64, 3),   # 32x32 -> 64x64\n",
        "]"
      ],
      "metadata": {
        "id": "Q50s_BnnjkKw"
      },
      "execution_count": null,
      "outputs": []
    },
    {
      "cell_type": "code",
      "source": [
        "def unet_model(output_channels:int):\n",
        "  inputs = tf.keras.layers.Input(shape=[256, 256, 3])\n",
        "\n",
        "  # Downsampling through the model\n",
        "  skips = down_stack(inputs)\n",
        "  x = skips[-1]\n",
        "  skips = reversed(skips[:-1])\n",
        "\n",
        "  # Upsampling and establishing the skip connections\n",
        "  for up, skip in zip(up_stack, skips):\n",
        "    x = up(x)\n",
        "    concat = tf.keras.layers.Concatenate()\n",
        "    x = concat([x, skip])\n",
        "\n",
        "  # This is the last layer of the model\n",
        "  last = tf.keras.layers.Conv2DTranspose(\n",
        "      filters=output_channels, kernel_size=3, strides=2,\n",
        "      padding='same')  #64x64 -> 128x128\n",
        "\n",
        "  x = last(x)\n",
        "\n",
        "  return tf.keras.Model(inputs=inputs, outputs=x)"
      ],
      "metadata": {
        "id": "WFQxCEQ0k-iT"
      },
      "execution_count": null,
      "outputs": []
    },
    {
      "cell_type": "code",
      "source": [
        "OT_Train1 = OT_Train * 0.99"
      ],
      "metadata": {
        "id": "tCHJFXjfqV9s"
      },
      "execution_count": null,
      "outputs": []
    },
    {
      "cell_type": "code",
      "source": [
        "OUTPUT_CLASSES = 3\n",
        "train_shape = 256, 256, 1\n",
        "model = tf.keras.Sequential()\n",
        "model.add(tf.keras.layers.Conv2D(filters=3, kernel_size=3, strides=1, padding='same', data_format='channels_last',input_shape=train_shape))\n",
        "model.add(unet_model(output_channels=OUTPUT_CLASSES))\n",
        "model.add(tf.keras.layers.Conv2D(filters=1, kernel_size=3, strides=1, padding='same'))\n",
        "tf.keras.utils.plot_model(model, show_shapes=True)"
      ],
      "metadata": {
        "colab": {
          "base_uri": "https://localhost:8080/",
          "height": 422
        },
        "id": "jrUlBKvYlzZw",
        "outputId": "57f18757-d5c9-4365-d7c4-fe466eb5c150"
      },
      "execution_count": null,
      "outputs": [
        {
          "output_type": "execute_result",
          "data": {
            "text/plain": [
              "<IPython.core.display.Image object>"
            ],
            "image/png": "[encoded data removed]"
          },
          "metadata": {},
          "execution_count": 15
        }
      ]
    },
    {
      "cell_type": "code",
      "source": [
        "# https://lars76.github.io/2018/09/27/loss-functions-for-segmentation.html\n",
        "def dice_loss(y_true, y_pred):\n",
        "  y_true = tf.cast(y_true, tf.float32)\n",
        "  y_pred = tf.math.sigmoid(y_pred)\n",
        "  numerator = 2 * tf.reduce_sum(y_true * y_pred)\n",
        "  denominator = tf.reduce_sum(y_true + y_pred)\n",
        "\n",
        "  return 1 - numerator / denominator\n",
        "  \n",
        "def weighted_cross_entropy(beta):\n",
        "  def loss(y_true, y_pred):\n",
        "    weight_a = beta * tf.cast(y_true, tf.float32)\n",
        "    weight_b = 1 - tf.cast(y_true, tf.float32)\n",
        "    \n",
        "    o = (tf.math.log1p(tf.exp(-tf.abs(y_pred))) + tf.nn.relu(-y_pred)) * (weight_a + weight_b) + y_pred * weight_b \n",
        "    return tf.reduce_mean(o)\n",
        "\n",
        "  return loss\n",
        "\n",
        "initial_learning_rate = 0.0001\n",
        "lr_schedule = tf.keras.optimizers.schedules.ExponentialDecay(\n",
        "    initial_learning_rate,\n",
        "    decay_steps=100000,\n",
        "    decay_rate=0.96,\n",
        "    staircase=True)"
      ],
      "metadata": {
        "id": "8ORth0JD78NW"
      },
      "execution_count": null,
      "outputs": []
    },
    {
      "cell_type": "code",
      "source": [
        "\n",
        "model.compile(optimizer=tf.keras.optimizers.Adam(\n",
        "    learning_rate=0.000001),\n",
        "              loss=weighted_cross_entropy(beta = 5000),\n",
        "              metrics=['binary_accuracy'])"
      ],
      "metadata": {
        "id": "9RS805Gdo3Xu"
      },
      "execution_count": null,
      "outputs": []
    },
    {
      "cell_type": "code",
      "source": [
        "model_history = model.fit(x = CT_Train, y = OT_Train, batch_size=40, epochs = 5, verbose='auto')"
      ],
      "metadata": {
        "colab": {
          "base_uri": "https://localhost:8080/"
        },
        "id": "rWsqPJT1pQ9b",
        "outputId": "82fde3e4-aee6-48ab-d015-a99585547765"
      },
      "execution_count": null,
      "outputs": [
        {
          "output_type": "stream",
          "name": "stdout",
          "text": [
            "Epoch 1/5\n",
            "11/11 [==============================] - 6s 504ms/step - loss: 0.3323 - binary_accuracy: 0.9796\n",
            "Epoch 2/5\n",
            "11/11 [==============================] - 6s 503ms/step - loss: 0.3357 - binary_accuracy: 0.9797\n",
            "Epoch 3/5\n",
            "11/11 [==============================] - 6s 506ms/step - loss: 0.3317 - binary_accuracy: 0.9797\n",
            "Epoch 4/5\n",
            "11/11 [==============================] - 6s 510ms/step - loss: 0.3307 - binary_accuracy: 0.9798\n",
            "Epoch 5/5\n",
            "11/11 [==============================] - 6s 515ms/step - loss: 0.3220 - binary_accuracy: 0.9798\n"
          ]
        }
      ]
    },
    {
      "cell_type": "code",
      "source": [
        "pred_OT=model.predict(CT_Train)\n"
      ],
      "metadata": {
        "id": "qxcz2ZB7zBOV"
      },
      "execution_count": null,
      "outputs": []
    },
    {
      "cell_type": "code",
      "source": [
        "ind = 27\n",
        "plt.subplot(1,3,1)\n",
        "plt.imshow(OT_Train[ind,:,:,0],cmap='gray', vmin=0, vmax=1)\n",
        "plt.subplot(1,3,2)\n",
        "pred_map = np.zeros(pred_OT[ind,:,:,0].shape)\n",
        "pred_map[pred_OT[ind,:,:,0]>0.5] = 1\n",
        "plt.imshow(pred_map,cmap='gray', vmin=0, vmax=1)\n",
        "plt.subplot(1,3,3)\n",
        "plt.imshow(np.abs(pred_map - OT_Train[ind,:,:,0]),cmap='gray', vmin=0, vmax=1)"
      ],
      "metadata": {
        "colab": {
          "base_uri": "https://localhost:8080/",
          "height": 167
        },
        "id": "JaJqj4iH0MPN",
        "outputId": "f7aa5f4a-5a97-43af-87db-210f50483255"
      },
      "execution_count": null,
      "outputs": [
        {
          "output_type": "execute_result",
          "data": {
            "text/plain": [
              "<matplotlib.image.AxesImage at 0x7f9cdae84e50>"
            ]
          },
          "metadata": {},
          "execution_count": 10
        },
        {
          "output_type": "display_data",
          "data": {
            "text/plain": [
              "<Figure size 432x288 with 3 Axes>"
            ],
            "image/png": "[encoded data removed]"
          },
          "metadata": {
            "needs_background": "light"
          }
        }
      ]
    },
    {
      "cell_type": "code",
      "source": [
        "a = np.amin(OT_Train)\n",
        "b = np.amin(pred_OT)\n",
        "print(b)"
      ],
      "metadata": {
        "colab": {
          "base_uri": "https://localhost:8080/"
        },
        "id": "whag4-EqzGFR",
        "outputId": "3a288e04-99e5-4d28-bde0-21b884b8e565"
      },
      "execution_count": null,
      "outputs": [
        {
          "output_type": "stream",
          "name": "stdout",
          "text": [
            "-7.6596656\n"
          ]
        }
      ]
    },
    {
      "cell_type": "code",
      "source": [
        "# save model\n",
        "model_path = '/content/drive/Shared drives/CS230 project/UNet_MobileV2'\n",
        "model.save(model_path)"
      ],
      "metadata": {
        "id": "YXZmy8FwzyPv",
        "colab": {
          "base_uri": "https://localhost:8080/"
        },
        "outputId": "f920b7ea-2239-4f86-fd7b-fa32b10d5420"
      },
      "execution_count": null,
      "outputs": [
        {
          "output_type": "stream",
          "name": "stdout",
          "text": [
            "INFO:tensorflow:Assets written to: /content/drive/Shared drives/CS230 project/UNet_MobileV2/assets\n"
          ]
        }
      ]
    },
    {
      "cell_type": "code",
      "source": [
        "#load model\n",
        "model_path = '/content/drive/Shared drives/CS230 project/UNet_MobileV2'\n",
        "model = tf.keras.models.load_model(model_path, compile=False)\n",
        "model.trainable = False"
      ],
      "metadata": {
        "id": "G96N3xpr0BUs"
      },
      "execution_count": null,
      "outputs": []
    },
    {
      "cell_type": "code",
      "source": [
        "# prediction\n",
        "pred_OT=model.predict(CT_Train)\n",
        "pred_OT_S = tf.math.sigmoid(pred_OT)"
      ],
      "metadata": {
        "id": "UyXZF9QOwGV6"
      },
      "execution_count": null,
      "outputs": []
    },
    {
      "cell_type": "code",
      "source": [
        "# compute recall\n",
        "m = tf.keras.metrics.Recall(thresholds = 0.5)\n",
        "m.update_state(OT_Train, pred_OT_S)\n",
        "m.result().numpy()"
      ],
      "metadata": {
        "colab": {
          "base_uri": "https://localhost:8080/"
        },
        "id": "D9K9IzbWbRde",
        "outputId": "9c77fb67-1dd7-46d2-a30e-48a04e822cb1"
      },
      "execution_count": null,
      "outputs": [
        {
          "output_type": "execute_result",
          "data": {
            "text/plain": [
              "0.56015027"
            ]
          },
          "metadata": {},
          "execution_count": 35
        }
      ]
    },
    {
      "cell_type": "code",
      "source": [
        "# compute precision\n",
        "m = tf.keras.metrics.Precision(thresholds = 0.5)\n",
        "m.update_state(OT_Train, pred_OT_S)\n",
        "m.result().numpy()"
      ],
      "metadata": {
        "colab": {
          "base_uri": "https://localhost:8080/"
        },
        "id": "qro94xmpyF01",
        "outputId": "5f7951df-2aef-4884-ab8e-98d7c292d243"
      },
      "execution_count": null,
      "outputs": [
        {
          "output_type": "execute_result",
          "data": {
            "text/plain": [
              "0.28202066"
            ]
          },
          "metadata": {},
          "execution_count": 36
        }
      ]
    },
    {
      "cell_type": "code",
      "source": [
        "# compute dice score\n",
        "print(dice_loss(OT_Train, pred_OT))"
      ],
      "metadata": {
        "colab": {
          "base_uri": "https://localhost:8080/"
        },
        "id": "kuhUBDKR0rz7",
        "outputId": "58ca7e95-3927-44e6-c0fd-9c975b88dcdb"
      },
      "execution_count": null,
      "outputs": [
        {
          "output_type": "stream",
          "name": "stdout",
          "text": [
            "tf.Tensor(0.93435884, shape=(), dtype=float32)\n"
          ]
        }
      ]
    },
    {
      "cell_type": "markdown",
      "source": [
        " https://lars76.github.io/2018/09/27/loss-functions-for-segmentation.html\n",
        "\n",
        " https://github.com/Hua-YS/Semantic-Segmentation-with-Sparse-Labels/blob/main/loss.py\n",
        "\n",
        "https://jeune-research.tistory.com/entry/Loss-Functions-for-Image-Segmentation-Distribution-Based-Losses\n",
        "\n",
        "https://arxiv.org/pdf/1606.06650.pdf (maybe we can use weighted softmax/cross entropy)"
      ],
      "metadata": {
        "id": "U5-pgLoNBigh"
      }
    }
  ]
}
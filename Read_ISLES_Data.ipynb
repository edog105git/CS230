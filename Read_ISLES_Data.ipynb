{
  "nbformat": 4,
  "nbformat_minor": 0,
  "metadata": {
    "colab": {
      "name": "Read_ISLES_Data.ipynb",
      "provenance": [],
      "collapsed_sections": [],
      "include_colab_link": true
    },
    "kernelspec": {
      "name": "python3",
      "display_name": "Python 3"
    },
    "language_info": {
      "name": "python"
    }
  },
  "cells": [
    {
      "cell_type": "markdown",
      "metadata": {
        "id": "view-in-github",
        "colab_type": "text"
      },
      "source": [
        "<a href=\"https://colab.research.google.com/github/edog105git/CS230/blob/main/Read_ISLES_Data.ipynb\" target=\"_parent\"><img src=\"https://colab.research.google.com/assets/colab-badge.svg\" alt=\"Open In Colab\"/></a>"
      ]
    },
    {
      "cell_type": "code",
      "execution_count": null,
      "metadata": {
        "colab": {
          "base_uri": "https://localhost:8080/"
        },
        "id": "KuwCFxe_lVtj",
        "outputId": "81de7770-2e07-4970-cc61-1411153b5473"
      },
      "outputs": [
        {
          "output_type": "stream",
          "name": "stdout",
          "text": [
            "Mounted at /content/drive\n"
          ]
        }
      ],
      "source": [
        "# this mounts your Google Drive to the Colab VM.\n",
        "from google.colab import drive\n",
        "drive.mount('/content/drive', force_remount=True)"
      ]
    },
    {
      "cell_type": "code",
      "source": [
        "import os\n",
        "import nibabel as nib\n",
        "import numpy as np\n",
        "import pandas as pd"
      ],
      "metadata": {
        "id": "C9h8V4GrmKKK"
      },
      "execution_count": null,
      "outputs": []
    },
    {
      "cell_type": "code",
      "source": [
        "# path of NCCT\n",
        "# ct_path = '/content/drive/Shared drives/CS230 project/isles data/TRAINING/case_1/SMIR.Brain.XX.O.OT.345566/'\n",
        "ct_path_train = '/content/drive/Shared drives/CS230 project/Organized Data/Training/CT/'\n",
        "ot_path_train = '/content/drive/Shared drives/CS230 project/Organized Data/Training/OT/'\n",
        "# data path for saving the organized training data\n",
        "save_path = '/content/drive/Shared drives/CS230 project/Organized Data/Processed'\n"
      ],
      "metadata": {
        "id": "RqRfad-hlbI_"
      },
      "execution_count": null,
      "outputs": []
    },
    {
      "cell_type": "code",
      "source": [
        "# read number of cases\n",
        "N_train = len([name for name in os.listdir(ct_path_train) if os.path.isfile(os.path.join(ct_path_train, name))])\n",
        "print(N_train)"
      ],
      "metadata": {
        "colab": {
          "base_uri": "https://localhost:8080/"
        },
        "id": "hgrb0uHurvdr",
        "outputId": "35ddb8db-0312-419a-f4b8-6617ccb0657d"
      },
      "execution_count": null,
      "outputs": [
        {
          "output_type": "stream",
          "name": "stdout",
          "text": [
            "90\n"
          ]
        }
      ]
    },
    {
      "cell_type": "code",
      "source": [
        "# store train data in matrix\n",
        "outputDict = {\n",
        "    'NCCT_train': [], 'OT_train': [],\n",
        "}\n",
        "\n",
        "N_Img = 0\n",
        "for i in range(N_train):\n",
        "  print('processing '+str(i+1)+'th image')\n",
        "  # read ct\n",
        "  ncct_filename = os.path.join(ct_path_train, 'CT_'+str(i+1)+'.nii')\n",
        "  ct_data = nib.load(ncct_filename)\n",
        "  nct_data = ct_data.get_fdata()\n",
        "  nx, ny, n_slice = nct_data.shape\n",
        "  N_Img += n_slice\n",
        "  for j in range(n_slice):\n",
        "    ct_img = nct_data[:,:,j].reshape(nx*ny)\n",
        "    outputDict['NCCT_train'].append(ct_img)\n",
        "  \n",
        "  ot_filename = os.path.join(ot_path_train, 'OT_'+str(i+1)+'.nii')\n",
        "  ot_data = nib.load(ot_filename)\n",
        "  not_data = ot_data.get_fdata()\n",
        "  for j in range(n_slice):\n",
        "    ot_img = not_data[:,:,j].reshape(nx*ny)\n",
        "    outputDict['OT_train'].append(ot_img)\n"
      ],
      "metadata": {
        "colab": {
          "base_uri": "https://localhost:8080/"
        },
        "id": "uBnuEPtimIPt",
        "outputId": "32b62c4d-6e59-4a65-c459-3eae6466dc6b"
      },
      "execution_count": null,
      "outputs": [
        {
          "output_type": "stream",
          "name": "stdout",
          "text": [
            "processing 1th image\n",
            "processing 2th image\n",
            "processing 3th image\n",
            "processing 4th image\n",
            "processing 5th image\n",
            "processing 6th image\n",
            "processing 7th image\n",
            "processing 8th image\n",
            "processing 9th image\n",
            "processing 10th image\n",
            "processing 11th image\n",
            "processing 12th image\n",
            "processing 13th image\n",
            "processing 14th image\n",
            "processing 15th image\n",
            "processing 16th image\n",
            "processing 17th image\n",
            "processing 18th image\n",
            "processing 19th image\n",
            "processing 20th image\n",
            "processing 21th image\n",
            "processing 22th image\n",
            "processing 23th image\n",
            "processing 24th image\n",
            "processing 25th image\n",
            "processing 26th image\n",
            "processing 27th image\n",
            "processing 28th image\n",
            "processing 29th image\n",
            "processing 30th image\n",
            "processing 31th image\n",
            "processing 32th image\n",
            "processing 33th image\n",
            "processing 34th image\n",
            "processing 35th image\n",
            "processing 36th image\n",
            "processing 37th image\n",
            "processing 38th image\n",
            "processing 39th image\n",
            "processing 40th image\n",
            "processing 41th image\n",
            "processing 42th image\n",
            "processing 43th image\n",
            "processing 44th image\n",
            "processing 45th image\n",
            "processing 46th image\n",
            "processing 47th image\n",
            "processing 48th image\n",
            "processing 49th image\n",
            "processing 50th image\n",
            "processing 51th image\n",
            "processing 52th image\n",
            "processing 53th image\n",
            "processing 54th image\n",
            "processing 55th image\n",
            "processing 56th image\n",
            "processing 57th image\n",
            "processing 58th image\n",
            "processing 59th image\n",
            "processing 60th image\n",
            "processing 61th image\n",
            "processing 62th image\n",
            "processing 63th image\n",
            "processing 64th image\n",
            "processing 65th image\n",
            "processing 66th image\n",
            "processing 67th image\n",
            "processing 68th image\n",
            "processing 69th image\n",
            "processing 70th image\n",
            "processing 71th image\n",
            "processing 72th image\n",
            "processing 73th image\n",
            "processing 74th image\n",
            "processing 75th image\n",
            "processing 76th image\n",
            "processing 77th image\n",
            "processing 78th image\n",
            "processing 79th image\n",
            "processing 80th image\n",
            "processing 81th image\n",
            "processing 82th image\n",
            "processing 83th image\n",
            "processing 84th image\n",
            "processing 85th image\n",
            "processing 86th image\n",
            "processing 87th image\n",
            "processing 88th image\n",
            "processing 89th image\n",
            "processing 90th image\n"
          ]
        }
      ]
    },
    {
      "cell_type": "code",
      "source": [
        "for key in outputDict:\n",
        "  np.savetxt(os.path.join(save_path, str(key)+'.csv'), outputDict[key], fmt='%d', delimiter=',')"
      ],
      "metadata": {
        "id": "Ws4zWW7PmGj9"
      },
      "execution_count": null,
      "outputs": []
    },
    {
      "cell_type": "code",
      "source": [
        "# check. Read processed data\n",
        "\n",
        "# df = pd.read_csv(os.path.join(save_path, 'NCCT_train.csv'), header=None)\n",
        "# array = df.to_numpy().reshape(1, 256, 256, 8)\n",
        "# print(N_Img)\n",
        "df = pd.read_csv(os.path.join(save_path, 'OT_train.csv'), header=None)\n",
        "array = df.to_numpy().reshape(438, 256, 256)"
      ],
      "metadata": {
        "id": "2cDXYUIlusB8"
      },
      "execution_count": null,
      "outputs": []
    },
    {
      "cell_type": "code",
      "source": [
        "%matplotlib inline\n",
        "\n",
        "import matplotlib.pyplot as plt\n",
        "\n",
        "plt.imshow(array[6,:,:],cmap='gray', vmin=0, vmax=1)"
      ],
      "metadata": {
        "id": "w3aLO6t-mRV_"
      },
      "execution_count": null,
      "outputs": []
    }
  ]
}